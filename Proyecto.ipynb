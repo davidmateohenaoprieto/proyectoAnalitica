{
 "cells": [
  {
   "cell_type": "code",
   "execution_count": 6,
   "metadata": {},
   "outputs": [],
   "source": [
    "import numpy as np\n",
    "import pandas as pd\n",
    "from calendar import month_name"
   ]
  },
  {
   "cell_type": "markdown",
   "metadata": {},
   "source": [
    "Presentación"
   ]
  },
  {
   "cell_type": "markdown",
   "metadata": {},
   "source": [
    "    Contexto:"
   ]
  },
  {
   "cell_type": "markdown",
   "metadata": {},
   "source": [
    "    Hipótesis:"
   ]
  },
  {
   "cell_type": "markdown",
   "metadata": {},
   "source": [
    "Descripción y resumen de los datasets (numero de filas, maximos, minimos, promedios, etc)"
   ]
  },
  {
   "cell_type": "code",
   "execution_count": 21,
   "metadata": {},
   "outputs": [
    {
     "name": "stdout",
     "output_type": "stream",
     "text": [
      "Cantidad de filas: 199146\n",
      "Cantidad de columnas: 16\n"
     ]
    }
   ],
   "source": [
    "#Lectura de datos\n",
    "siniestros = pd.read_csv(\"historico_siniestros_bogota_d.c_.csv\",sep = ',', encoding='utf-8-sig')\n",
    "siniestros.head()\n",
    "\n",
    "# Obtener la cantidad de filas y columnas\n",
    "filas, columnas = siniestros.shape\n",
    "\n",
    "# Mostrar la cantidad de filas y columnas\n",
    "print(\"Cantidad de filas:\", filas)\n",
    "print(\"Cantidad de columnas:\", columnas)\n"
   ]
  },
  {
   "cell_type": "code",
   "execution_count": 22,
   "metadata": {},
   "outputs": [
    {
     "name": "stdout",
     "output_type": "stream",
     "text": [
      "Cantidad de filas: 199146\n",
      "Cantidad de columnas: 18\n"
     ]
    }
   ],
   "source": [
    "# Convertir la fecha en la primera base de datos al formato de año y mes\n",
    "siniestros['FECHA_OCURRENCIA_ACC'] = pd.to_datetime(siniestros['FECHA_OCURRENCIA_ACC'])\n",
    "siniestros['Año'] = siniestros['FECHA_OCURRENCIA_ACC'].dt.year\n",
    "siniestros['Mes'] = siniestros['FECHA_OCURRENCIA_ACC'].dt.month_name()\n",
    "\n",
    "# Traducir nombres de los meses al español\n",
    "meses_ingles = list(month_name[1:])\n",
    "meses_espanol = ['Enero', 'Febrero', 'Marzo', 'Abril', 'Mayo', 'Junio', 'Julio', 'Agosto', 'Septiembre', 'Octubre', 'Noviembre', 'Diciembre']\n",
    "\n",
    "traductor_meses = dict(zip(meses_ingles, meses_espanol))\n",
    "siniestros['Mes'] = siniestros['Mes'].map(traductor_meses)\n",
    "\n",
    "siniestros.head()\n",
    "\n",
    "# Obtener la cantidad de filas y columnas\n",
    "filas, columnas = siniestros.shape\n",
    "\n",
    "# Mostrar la cantidad de filas y columnas\n",
    "print(\"Cantidad de filas:\", filas)\n",
    "print(\"Cantidad de columnas:\", columnas)\n"
   ]
  },
  {
   "cell_type": "code",
   "execution_count": 24,
   "metadata": {},
   "outputs": [
    {
     "name": "stdout",
     "output_type": "stream",
     "text": [
      "Cantidad de filas: 192\n",
      "Cantidad de columnas: 6\n"
     ]
    }
   ],
   "source": [
    "temperatura = pd.read_csv(\"osb_temperatura.csv\",sep = ';', encoding='latin-1')\n",
    "temperatura.head()\n",
    "\n",
    "# Obtener la cantidad de filas y columnas\n",
    "filas, columnas = temperatura.shape\n",
    "\n",
    "# Mostrar la cantidad de filas y columnas\n",
    "print(\"Cantidad de filas:\", filas)\n",
    "print(\"Cantidad de columnas:\", columnas)"
   ]
  },
  {
   "cell_type": "code",
   "execution_count": 26,
   "metadata": {},
   "outputs": [
    {
     "data": {
      "text/html": [
       "<div>\n",
       "<style scoped>\n",
       "    .dataframe tbody tr th:only-of-type {\n",
       "        vertical-align: middle;\n",
       "    }\n",
       "\n",
       "    .dataframe tbody tr th {\n",
       "        vertical-align: top;\n",
       "    }\n",
       "\n",
       "    .dataframe thead th {\n",
       "        text-align: right;\n",
       "    }\n",
       "</style>\n",
       "<table border=\"1\" class=\"dataframe\">\n",
       "  <thead>\n",
       "    <tr style=\"text-align: right;\">\n",
       "      <th></th>\n",
       "      <th>METADATO</th>\n",
       "      <th>DESCRIPCION</th>\n",
       "    </tr>\n",
       "  </thead>\n",
       "  <tbody>\n",
       "    <tr>\n",
       "      <th>0</th>\n",
       "      <td>Serie de tiempo desde</td>\n",
       "      <td>2007</td>\n",
       "    </tr>\n",
       "    <tr>\n",
       "      <th>1</th>\n",
       "      <td>Definición del indicador</td>\n",
       "      <td>Se refiere al grado de calor específico del ai...</td>\n",
       "    </tr>\n",
       "    <tr>\n",
       "      <th>2</th>\n",
       "      <td>Utilidad</td>\n",
       "      <td>Monitorear las temperaturas máximas, mínimas y...</td>\n",
       "    </tr>\n",
       "    <tr>\n",
       "      <th>3</th>\n",
       "      <td>Unidad de medición</td>\n",
       "      <td>°C</td>\n",
       "    </tr>\n",
       "    <tr>\n",
       "      <th>4</th>\n",
       "      <td>Periodicidad</td>\n",
       "      <td>Anual</td>\n",
       "    </tr>\n",
       "    <tr>\n",
       "      <th>5</th>\n",
       "      <td>Meta</td>\n",
       "      <td>Formular el componente de Salud Ambiental del ...</td>\n",
       "    </tr>\n",
       "    <tr>\n",
       "      <th>6</th>\n",
       "      <td>Fuente de Información Numerador</td>\n",
       "      <td>Secretaría Distrital de Ambiente, Red de Monit...</td>\n",
       "    </tr>\n",
       "    <tr>\n",
       "      <th>7</th>\n",
       "      <td>Fuente de Información Denominador</td>\n",
       "      <td>NaN</td>\n",
       "    </tr>\n",
       "    <tr>\n",
       "      <th>8</th>\n",
       "      <td>año/Mes</td>\n",
       "      <td>Periodo de recolección de la información</td>\n",
       "    </tr>\n",
       "    <tr>\n",
       "      <th>9</th>\n",
       "      <td>°C</td>\n",
       "      <td>El grado Celsius (en símbolo en °C), es la uni...</td>\n",
       "    </tr>\n",
       "    <tr>\n",
       "      <th>10</th>\n",
       "      <td>ENOS</td>\n",
       "      <td>El Niño-Oscilación del Sur (ENOS) es un fenóme...</td>\n",
       "    </tr>\n",
       "    <tr>\n",
       "      <th>11</th>\n",
       "      <td>Formula de cálculo</td>\n",
       "      <td>Temperatura promedio: (Temperatura promedio ho...</td>\n",
       "    </tr>\n",
       "  </tbody>\n",
       "</table>\n",
       "</div>"
      ],
      "text/plain": [
       "                             METADATO  \\\n",
       "0               Serie de tiempo desde   \n",
       "1            Definición del indicador   \n",
       "2                           Utilidad    \n",
       "3                  Unidad de medición   \n",
       "4                        Periodicidad   \n",
       "5                               Meta    \n",
       "6     Fuente de Información Numerador   \n",
       "7   Fuente de Información Denominador   \n",
       "8                            año/Mes    \n",
       "9                                  °C   \n",
       "10                               ENOS   \n",
       "11                 Formula de cálculo   \n",
       "\n",
       "                                          DESCRIPCION  \n",
       "0                                                2007  \n",
       "1   Se refiere al grado de calor específico del ai...  \n",
       "2   Monitorear las temperaturas máximas, mínimas y...  \n",
       "3                                                  °C  \n",
       "4                                               Anual  \n",
       "5   Formular el componente de Salud Ambiental del ...  \n",
       "6   Secretaría Distrital de Ambiente, Red de Monit...  \n",
       "7                                                 NaN  \n",
       "8           Periodo de recolección de la información   \n",
       "9   El grado Celsius (en símbolo en °C), es la uni...  \n",
       "10  El Niño-Oscilación del Sur (ENOS) es un fenóme...  \n",
       "11  Temperatura promedio: (Temperatura promedio ho...  "
      ]
     },
     "execution_count": 26,
     "metadata": {},
     "output_type": "execute_result"
    }
   ],
   "source": [
    "tem_meta = pd.read_csv(\"metadato_temperatura.csv\",sep = ';', encoding='latin-1')\n",
    "tem_meta"
   ]
  },
  {
   "cell_type": "code",
   "execution_count": 27,
   "metadata": {},
   "outputs": [
    {
     "name": "stdout",
     "output_type": "stream",
     "text": [
      "Cantidad de filas: 199146\n",
      "Cantidad de columnas: 22\n",
      "Listado de columnas:\n",
      "X\n",
      "Y\n",
      "OBJECTID\n",
      "FORMULARIO\n",
      "CODIGO_ACCIDENTE\n",
      "FECHA_OCURRENCIA_ACC\n",
      "ANO_OCURRENCIA_ACC\n",
      "DIRECCION\n",
      "GRAVEDAD\n",
      "CLASE_ACC\n",
      "LOCALIDAD\n",
      "FECHA_HORA_ACC\n",
      "LATITUD\n",
      "LONGITUD\n",
      "CIV\n",
      "PK_CALZADA\n",
      "Año\n",
      "Mes\n",
      "Temperatura Máxima\n",
      "Temperatura Mínima\n",
      "Temperatura promedio\n",
      "Enos \n"
     ]
    }
   ],
   "source": [
    "# Combinar los conjuntos de datos por año y mes con left join\n",
    "df_combinado = pd.merge(siniestros, temperatura, on=['Año', 'Mes'], how='left')\n",
    "\n",
    "# Obtener la cantidad de filas y columnas\n",
    "filas, columnas = df_combinado.shape\n",
    "\n",
    "# Mostrar la cantidad de filas y columnas\n",
    "print(\"Cantidad de filas:\", filas)\n",
    "print(\"Cantidad de columnas:\", columnas)\n",
    "\n",
    "columnas = df_combinado.columns\n",
    "\n",
    "# Mostrar el listado de las columnas\n",
    "print(\"Listado de columnas:\")\n",
    "for columna in columnas:\n",
    "    print(columna)\n",
    "\n"
   ]
  },
  {
   "cell_type": "markdown",
   "metadata": {},
   "source": [
    "Propuesta de la solución"
   ]
  },
  {
   "cell_type": "markdown",
   "metadata": {},
   "source": [
    "Realización de la solución"
   ]
  },
  {
   "cell_type": "markdown",
   "metadata": {},
   "source": [
    "Conclusiones y métricas de la solución"
   ]
  }
 ],
 "metadata": {
  "kernelspec": {
   "display_name": "base",
   "language": "python",
   "name": "python3"
  },
  "language_info": {
   "codemirror_mode": {
    "name": "ipython",
    "version": 3
   },
   "file_extension": ".py",
   "mimetype": "text/x-python",
   "name": "python",
   "nbconvert_exporter": "python",
   "pygments_lexer": "ipython3",
   "version": "3.9.13"
  }
 },
 "nbformat": 4,
 "nbformat_minor": 2
}
